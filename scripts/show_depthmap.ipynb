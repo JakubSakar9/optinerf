{
 "cells": [
  {
   "cell_type": "code",
   "execution_count": 7,
   "metadata": {},
   "outputs": [],
   "source": [
    "import os\n",
    "import scipy.io as sio\n",
    "import numpy as np\n",
    "from PIL import Image\n",
    "import cv2\n",
    "import copy\n"
   ]
  },
  {
   "cell_type": "code",
   "execution_count": 8,
   "metadata": {},
   "outputs": [],
   "source": [
    "cur_dir = os.getcwd()\n",
    "# in_dir = os.path.join(cur_dir, \"gt\")\n",
    "in_dir = os.path.join(cur_dir, \"rendered\")\n",
    "# out_dir = os.path.join(cur_dir, \"gt_tf\")\n",
    "out_dir = os.path.join(cur_dir, \"rendered_tf\")"
   ]
  },
  {
   "cell_type": "code",
   "execution_count": 46,
   "metadata": {},
   "outputs": [],
   "source": [
    "for filename in os.listdir(in_dir):\n",
    "    filepath = os.path.join(in_dir, filename)\n",
    "    im = Image.open(filepath)\n",
    "    in_depth = np.array(im)\n",
    "    out_depth = 1 - 1 / (in_depth + 1)\n",
    "    tiff_name = filename[:-5] + \".tiff\"\n",
    "    tiff_path = os.path.join(out_dir, tiff_name)\n",
    "    tiff_path = tiff_path.replace(\"distance_mean\", \"depth\")\n",
    "    out_im = Image.fromarray(out_depth)\n",
    "    out_im.save(tiff_path)"
   ]
  },
  {
   "cell_type": "code",
   "execution_count": 13,
   "metadata": {},
   "outputs": [],
   "source": [
    "near = 2.0\n",
    "far = 6.0\n",
    "\n",
    "gt = False\n",
    "\n",
    "for filename in os.listdir(in_dir):\n",
    "    filepath = os.path.join(in_dir, filename)\n",
    "    if gt:\n",
    "        filepath = os.path.join(in_dir, filename)\n",
    "        im = cv2.imread(filepath, cv2.IMREAD_UNCHANGED) / 8192\n",
    "        im = im[..., 0]\n",
    "        tiff_name = filename[:-4] + \".png\"\n",
    "    else:\n",
    "        im = Image.open(filepath)\n",
    "        tiff_name = filename[:-5] + \".png\"\n",
    "    in_depth = np.array(im)\n",
    "    out_depth = np.clip((in_depth - near) / (far - near), 0, 1) * 256.0\n",
    "    tiff_path = os.path.join(out_dir, tiff_name)\n",
    "    tiff_path = tiff_path.replace(\"distance_mean\", \"depth\")\n",
    "    out_im = Image.fromarray(out_depth)\n",
    "    out_im = out_im.convert('RGB')\n",
    "    copy.deepcopy(out_im).save(tiff_path, \"PNG\")"
   ]
  },
  {
   "cell_type": "code",
   "execution_count": 14,
   "metadata": {},
   "outputs": [],
   "source": [
    "for filename in os.listdir(in_dir):\n",
    "    if filename.endswith(\".mat\"):\n",
    "        filepath = os.path.join(in_dir, filename)\n",
    "        data = sio.loadmat(filepath)\n",
    "\n",
    "        for value in data.values():\n",
    "            if isinstance(value, np.ndarray):\n",
    "                # mat_array = 1 - (1 / value)\n",
    "                mat_array = 1 - 1 / (value + 1)\n",
    "                break\n",
    "\n",
    "        tiff_name = filename[:-4] + \".tiff\"\n",
    "        tiff_path = os.path.join(out_dir, tiff_name)\n",
    "        Image.fromarray(np.nan_to_num(mat_array).astype(np.float32)).save(tiff_path, 'TIFF')"
   ]
  }
 ],
 "metadata": {
  "kernelspec": {
   "display_name": "Python 3",
   "language": "python",
   "name": "python3"
  },
  "language_info": {
   "codemirror_mode": {
    "name": "ipython",
    "version": 3
   },
   "file_extension": ".py",
   "mimetype": "text/x-python",
   "name": "python",
   "nbconvert_exporter": "python",
   "pygments_lexer": "ipython3",
   "version": "3.10.11"
  },
  "orig_nbformat": 4,
  "vscode": {
   "interpreter": {
    "hash": "47e86e659cc4c7e7c8281f4dfa198d26eba569ed7d4f5779d5419dff2bd0d92c"
   }
  }
 },
 "nbformat": 4,
 "nbformat_minor": 2
}
